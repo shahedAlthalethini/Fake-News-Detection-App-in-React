{
 "cells": [
  {
   "cell_type": "markdown",
   "id": "499b76d0",
   "metadata": {},
   "source": [
    "## Fast look to the data"
   ]
  },
  {
   "cell_type": "code",
   "execution_count": 67,
   "id": "77c6f599",
   "metadata": {},
   "outputs": [],
   "source": [
    "import pandas as pd\n",
    "import re"
   ]
  },
  {
   "cell_type": "code",
   "execution_count": 68,
   "id": "c41ab885",
   "metadata": {},
   "outputs": [
    {
     "data": {
      "text/html": [
       "<div>\n",
       "<style scoped>\n",
       "    .dataframe tbody tr th:only-of-type {\n",
       "        vertical-align: middle;\n",
       "    }\n",
       "\n",
       "    .dataframe tbody tr th {\n",
       "        vertical-align: top;\n",
       "    }\n",
       "\n",
       "    .dataframe thead th {\n",
       "        text-align: right;\n",
       "    }\n",
       "</style>\n",
       "<table border=\"1\" class=\"dataframe\">\n",
       "  <thead>\n",
       "    <tr style=\"text-align: right;\">\n",
       "      <th></th>\n",
       "      <th>Id</th>\n",
       "      <th>date</th>\n",
       "      <th>platform</th>\n",
       "      <th>title</th>\n",
       "      <th>News content</th>\n",
       "      <th>Label</th>\n",
       "    </tr>\n",
       "  </thead>\n",
       "  <tbody>\n",
       "    <tr>\n",
       "      <th>0</th>\n",
       "      <td>1</td>\n",
       "      <td>2023-01-11 00:00:00</td>\n",
       "      <td>Aljazeera</td>\n",
       "      <td>الضفة الغربية.. الاحتلال يهدم 17 منزلا تاريخيا...</td>\n",
       "      <td>هدمت قوات الاحتلال الإسرائيلي -اليوم الأربعاء-...</td>\n",
       "      <td>real</td>\n",
       "    </tr>\n",
       "    <tr>\n",
       "      <th>1</th>\n",
       "      <td>2</td>\n",
       "      <td>2023-01-11 00:00:00</td>\n",
       "      <td>Aljazeera</td>\n",
       "      <td>مظاهرات بمدن أوروبية تضامنا مع غزة وحشود أمام ...</td>\n",
       "      <td>خرجت مظاهرات في عدد من المدن الأوروبية مساء ال...</td>\n",
       "      <td>real</td>\n",
       "    </tr>\n",
       "    <tr>\n",
       "      <th>2</th>\n",
       "      <td>3</td>\n",
       "      <td>2023-01-11 00:00:00</td>\n",
       "      <td>Aljazeera</td>\n",
       "      <td>شهداء في جنين وطولكرم وإضراب عام بالضفة الغربي...</td>\n",
       "      <td>استشهد 4 فلسطينيين واعتقل عشرات آخرون -اليوم ا...</td>\n",
       "      <td>real</td>\n",
       "    </tr>\n",
       "    <tr>\n",
       "      <th>3</th>\n",
       "      <td>4</td>\n",
       "      <td>2023-02-11 00:00:00</td>\n",
       "      <td>Aljazeera</td>\n",
       "      <td>أبو عبيدة: خسائر العدو أكبر بكثير مما يعلن وسن...</td>\n",
       "      <td>أكد الناطق باسمكتائب الشهيد عز الدين القسام-ال...</td>\n",
       "      <td>real</td>\n",
       "    </tr>\n",
       "    <tr>\n",
       "      <th>4</th>\n",
       "      <td>5</td>\n",
       "      <td>2023-03-11 00:00:00</td>\n",
       "      <td>Aljazeera</td>\n",
       "      <td>9 شهداء بالضفة والاحتلال يشن حملة اعتقالات</td>\n",
       "      <td>استشهد 9 فلسطينيين في مواجهات اندلعت مع قوات ا...</td>\n",
       "      <td>real</td>\n",
       "    </tr>\n",
       "  </tbody>\n",
       "</table>\n",
       "</div>"
      ],
      "text/plain": [
       "   Id                 date   platform  \\\n",
       "0   1  2023-01-11 00:00:00  Aljazeera   \n",
       "1   2  2023-01-11 00:00:00  Aljazeera   \n",
       "2   3  2023-01-11 00:00:00  Aljazeera   \n",
       "3   4  2023-02-11 00:00:00  Aljazeera   \n",
       "4   5  2023-03-11 00:00:00  Aljazeera   \n",
       "\n",
       "                                               title  \\\n",
       "0  الضفة الغربية.. الاحتلال يهدم 17 منزلا تاريخيا...   \n",
       "1  مظاهرات بمدن أوروبية تضامنا مع غزة وحشود أمام ...   \n",
       "2  شهداء في جنين وطولكرم وإضراب عام بالضفة الغربي...   \n",
       "3  أبو عبيدة: خسائر العدو أكبر بكثير مما يعلن وسن...   \n",
       "4         9 شهداء بالضفة والاحتلال يشن حملة اعتقالات   \n",
       "\n",
       "                                        News content Label  \n",
       "0  هدمت قوات الاحتلال الإسرائيلي -اليوم الأربعاء-...  real  \n",
       "1  خرجت مظاهرات في عدد من المدن الأوروبية مساء ال...  real  \n",
       "2  استشهد 4 فلسطينيين واعتقل عشرات آخرون -اليوم ا...  real  \n",
       "3  أكد الناطق باسمكتائب الشهيد عز الدين القسام-ال...  real  \n",
       "4  استشهد 9 فلسطينيين في مواجهات اندلعت مع قوات ا...  real  "
      ]
     },
     "execution_count": 68,
     "metadata": {},
     "output_type": "execute_result"
    }
   ],
   "source": [
    "import pandas as pd\n",
    "data = pd.read_csv(\"merged_cleaned.csv\")\n",
    "data.head()"
   ]
  },
  {
   "cell_type": "code",
   "execution_count": 69,
   "id": "42d0aae6",
   "metadata": {},
   "outputs": [
    {
     "data": {
      "text/plain": [
       "np.int64(0)"
      ]
     },
     "execution_count": 69,
     "metadata": {},
     "output_type": "execute_result"
    }
   ],
   "source": [
    "num_missing_titles = data['News content'].isna().sum()\n",
    "num_missing_titles"
   ]
  },
  {
   "cell_type": "code",
   "execution_count": 70,
   "id": "3c9e6c54",
   "metadata": {},
   "outputs": [
    {
     "data": {
      "text/plain": [
       "platform\n",
       "Aljazeera    3422\n",
       "Misbar       1426\n",
       "Tibyan        247\n",
       "X              64\n",
       "Name: count, dtype: int64"
      ]
     },
     "execution_count": 70,
     "metadata": {},
     "output_type": "execute_result"
    }
   ],
   "source": [
    "data['platform'].value_counts().head(4)"
   ]
  },
  {
   "cell_type": "code",
   "execution_count": 71,
   "id": "92c66333",
   "metadata": {},
   "outputs": [
    {
     "data": {
      "text/plain": [
       "Label\n",
       "real    3913\n",
       "fake    1439\n",
       "Name: count, dtype: int64"
      ]
     },
     "execution_count": 71,
     "metadata": {},
     "output_type": "execute_result"
    }
   ],
   "source": [
    "data['Label'].value_counts()"
   ]
  },
  {
   "cell_type": "markdown",
   "id": "f6e13584",
   "metadata": {},
   "source": [
    "## Merge title with news content"
   ]
  },
  {
   "cell_type": "code",
   "execution_count": 72,
   "id": "0f7ea16c",
   "metadata": {},
   "outputs": [],
   "source": [
    "processedData= pd.DataFrame()"
   ]
  },
  {
   "cell_type": "code",
   "execution_count": 73,
   "id": "118e8455",
   "metadata": {},
   "outputs": [],
   "source": [
    "processedData['full_news'] = data['title'] + \" \" + data['News content']"
   ]
  },
  {
   "cell_type": "markdown",
   "id": "0f313869",
   "metadata": {},
   "source": [
    "## Map Label to 0 and 1"
   ]
  },
  {
   "cell_type": "code",
   "execution_count": 74,
   "id": "2ced2f1a",
   "metadata": {},
   "outputs": [
    {
     "data": {
      "text/html": [
       "<div>\n",
       "<style scoped>\n",
       "    .dataframe tbody tr th:only-of-type {\n",
       "        vertical-align: middle;\n",
       "    }\n",
       "\n",
       "    .dataframe tbody tr th {\n",
       "        vertical-align: top;\n",
       "    }\n",
       "\n",
       "    .dataframe thead th {\n",
       "        text-align: right;\n",
       "    }\n",
       "</style>\n",
       "<table border=\"1\" class=\"dataframe\">\n",
       "  <thead>\n",
       "    <tr style=\"text-align: right;\">\n",
       "      <th></th>\n",
       "      <th>full_news</th>\n",
       "      <th>Label</th>\n",
       "    </tr>\n",
       "  </thead>\n",
       "  <tbody>\n",
       "    <tr>\n",
       "      <th>0</th>\n",
       "      <td>الضفة الغربية.. الاحتلال يهدم 17 منزلا تاريخيا...</td>\n",
       "      <td>1</td>\n",
       "    </tr>\n",
       "    <tr>\n",
       "      <th>1</th>\n",
       "      <td>مظاهرات بمدن أوروبية تضامنا مع غزة وحشود أمام ...</td>\n",
       "      <td>1</td>\n",
       "    </tr>\n",
       "    <tr>\n",
       "      <th>2</th>\n",
       "      <td>شهداء في جنين وطولكرم وإضراب عام بالضفة الغربي...</td>\n",
       "      <td>1</td>\n",
       "    </tr>\n",
       "    <tr>\n",
       "      <th>3</th>\n",
       "      <td>أبو عبيدة: خسائر العدو أكبر بكثير مما يعلن وسن...</td>\n",
       "      <td>1</td>\n",
       "    </tr>\n",
       "    <tr>\n",
       "      <th>4</th>\n",
       "      <td>9 شهداء بالضفة والاحتلال يشن حملة اعتقالات است...</td>\n",
       "      <td>1</td>\n",
       "    </tr>\n",
       "  </tbody>\n",
       "</table>\n",
       "</div>"
      ],
      "text/plain": [
       "                                           full_news  Label\n",
       "0  الضفة الغربية.. الاحتلال يهدم 17 منزلا تاريخيا...      1\n",
       "1  مظاهرات بمدن أوروبية تضامنا مع غزة وحشود أمام ...      1\n",
       "2  شهداء في جنين وطولكرم وإضراب عام بالضفة الغربي...      1\n",
       "3  أبو عبيدة: خسائر العدو أكبر بكثير مما يعلن وسن...      1\n",
       "4  9 شهداء بالضفة والاحتلال يشن حملة اعتقالات است...      1"
      ]
     },
     "execution_count": 74,
     "metadata": {},
     "output_type": "execute_result"
    }
   ],
   "source": [
    "processedData['Label'] = data['Label'].map({'real': 1, 'fake': 0})\n",
    "processedData.head()"
   ]
  },
  {
   "cell_type": "markdown",
   "id": "f0445ecd",
   "metadata": {},
   "source": [
    "## Clean news content"
   ]
  },
  {
   "cell_type": "code",
   "execution_count": 75,
   "id": "744f5c4c",
   "metadata": {},
   "outputs": [],
   "source": [
    "import re\n",
    "\n",
    "def remove_emojis(text):\n",
    "    emoji_pattern = re.compile(\"[\"\n",
    "        u\"\\U0001F600-\\U0001F64F\"\n",
    "        u\"\\U0001F300-\\U0001F5FF\"\n",
    "        u\"\\U0001F680-\\U0001F6FF\"\n",
    "        u\"\\U0001F1E0-\\U0001F1FF\"\n",
    "                           \"]+\", flags=re.UNICODE)\n",
    "    return emoji_pattern.sub(r'', text)\n",
    "\n",
    "def clean_text(text):\n",
    "    if not isinstance(text, str):\n",
    "        return \"\"\n",
    "\n",
    "    # Remove URLs\n",
    "    text = re.sub(r'http\\S+|www.\\S+|pic\\.twitter\\.com/\\S+', '', text)\n",
    "\n",
    "\n",
    "    # Remove HTML\n",
    "    text = re.sub(r'<.*?>', '', text)\n",
    "\n",
    "\n",
    "    # Remove Emojies \n",
    "    text = remove_emojis(text)\n",
    "\n",
    "\n",
    "    # Remove Arabic diacritics\n",
    "    text = re.sub(r'[\\u064B-\\u0652]', '', text)\n",
    "\n",
    "\n",
    "    # # Remove punctuation (Arabic and general)\n",
    "    # text = re.sub(r'[ـ،؛؟!:\\.\\,\\(\\)\\[\\]\\{\\}\"\\'«»\\-_~…]', '', text)\n",
    "\n",
    "\n",
    "    text = re.sub(r'[إأآا]', 'ا', text)\n",
    "\n",
    "    lines = text.split('\\n')\n",
    "\n",
    "\n",
    "    cleaned_lines = []\n",
    "    for line in lines:\n",
    "        # Remove line if it not arabic\n",
    "        if re.fullmatch(r'[^\\u0600-\\u06FF]+', line.strip()):\n",
    "            continue\n",
    "\n",
    "\n",
    "        # Keep Arabic lines \n",
    "        line = re.sub(r'[^\\u0600-\\u06FF\\s]', '', line)\n",
    "\n",
    "\n",
    "        # Remove empty lines\n",
    "        if line.strip():\n",
    "            cleaned_lines.append(line.strip())\n",
    "\n",
    "    # Join the cleaned lines\n",
    "    return '\\n'.join(cleaned_lines)\n"
   ]
  },
  {
   "cell_type": "code",
   "execution_count": 76,
   "id": "19790e76",
   "metadata": {},
   "outputs": [],
   "source": [
    "processedData['full_news'] = processedData['full_news'].apply(clean_text)"
   ]
  },
  {
   "cell_type": "markdown",
   "id": "274db42c",
   "metadata": {},
   "source": [
    "## Remove Stop Words"
   ]
  },
  {
   "cell_type": "code",
   "execution_count": 77,
   "id": "fdff52c1",
   "metadata": {},
   "outputs": [],
   "source": [
    "from nltk.corpus import stopwords\n",
    "stop_words = set(stopwords.words('arabic'))"
   ]
  },
  {
   "cell_type": "code",
   "execution_count": 78,
   "id": "ff8bc33a",
   "metadata": {},
   "outputs": [],
   "source": [
    "processedData['full_news_no_stopwords'] = processedData['full_news'].apply(\n",
    "    lambda text: ' '.join([word for word in text.split() if word not in stop_words])\n",
    ")"
   ]
  },
  {
   "cell_type": "code",
   "execution_count": 79,
   "id": "ad4baddf",
   "metadata": {},
   "outputs": [],
   "source": [
    "import requests\n",
    "\n",
    "url = \"https://raw.githubusercontent.com/mohataher/arabic-stop-words/master/list.txt\"\n",
    "response = requests.get(url)\n",
    "\n",
    "with open(\"list.txt\", \"w\", encoding=\"utf-8\") as f:\n",
    "    f.write(response.text)\n",
    "\n",
    "with open(\"list.txt\", encoding=\"utf-8\") as f:\n",
    "    arabic_stopwords = set(f.read().splitlines())\n",
    "\n"
   ]
  },
  {
   "cell_type": "code",
   "execution_count": 80,
   "id": "a8dc440d",
   "metadata": {},
   "outputs": [],
   "source": [
    "processedData['full_news_no_stopwords'] = processedData['full_news_no_stopwords'].apply(\n",
    "    lambda text: ' '.join([word for word in text.split() if word not in arabic_stopwords])\n",
    ")\n",
    "\n"
   ]
  },
  {
   "cell_type": "code",
   "execution_count": 81,
   "id": "8f4407b6",
   "metadata": {},
   "outputs": [],
   "source": [
    "processedData.to_csv('ProcessedData_StopwordsStep.csv', index=False, encoding='utf-8-sig')\n"
   ]
  },
  {
   "cell_type": "code",
   "execution_count": 82,
   "id": "1a2a83e6",
   "metadata": {},
   "outputs": [
    {
     "data": {
      "text/html": [
       "<div>\n",
       "<style scoped>\n",
       "    .dataframe tbody tr th:only-of-type {\n",
       "        vertical-align: middle;\n",
       "    }\n",
       "\n",
       "    .dataframe tbody tr th {\n",
       "        vertical-align: top;\n",
       "    }\n",
       "\n",
       "    .dataframe thead th {\n",
       "        text-align: right;\n",
       "    }\n",
       "</style>\n",
       "<table border=\"1\" class=\"dataframe\">\n",
       "  <thead>\n",
       "    <tr style=\"text-align: right;\">\n",
       "      <th></th>\n",
       "      <th>full_news</th>\n",
       "      <th>Label</th>\n",
       "      <th>full_news_no_stopwords</th>\n",
       "    </tr>\n",
       "  </thead>\n",
       "  <tbody>\n",
       "    <tr>\n",
       "      <th>0</th>\n",
       "      <td>الضفة الغربية الاحتلال يهدم  منزلا تاريخيا ومس...</td>\n",
       "      <td>1</td>\n",
       "      <td>الضفة الغربية الاحتلال يهدم منزلا تاريخيا ومسي...</td>\n",
       "    </tr>\n",
       "    <tr>\n",
       "      <th>1</th>\n",
       "      <td>مظاهرات بمدن اوروبية تضامنا مع غزة وحشود امام ...</td>\n",
       "      <td>1</td>\n",
       "      <td>مظاهرات بمدن اوروبية تضامنا غزة وحشود داونينغ ...</td>\n",
       "    </tr>\n",
       "    <tr>\n",
       "      <th>2</th>\n",
       "      <td>شهداء في جنين وطولكرم واضراب عام بالضفة الغربي...</td>\n",
       "      <td>1</td>\n",
       "      <td>شهداء جنين وطولكرم واضراب بالضفة الغربية تنديد...</td>\n",
       "    </tr>\n",
       "    <tr>\n",
       "      <th>3</th>\n",
       "      <td>ابو عبيدة خسائر العدو اكبر بكثير مما يعلن وسنج...</td>\n",
       "      <td>1</td>\n",
       "      <td>ابو عبيدة خسائر العدو اكبر بكثير يعلن وسنجعل غ...</td>\n",
       "    </tr>\n",
       "    <tr>\n",
       "      <th>4</th>\n",
       "      <td>شهداء بالضفة والاحتلال يشن حملة اعتقالات استشه...</td>\n",
       "      <td>1</td>\n",
       "      <td>شهداء بالضفة والاحتلال يشن حملة اعتقالات استشه...</td>\n",
       "    </tr>\n",
       "  </tbody>\n",
       "</table>\n",
       "</div>"
      ],
      "text/plain": [
       "                                           full_news  Label  \\\n",
       "0  الضفة الغربية الاحتلال يهدم  منزلا تاريخيا ومس...      1   \n",
       "1  مظاهرات بمدن اوروبية تضامنا مع غزة وحشود امام ...      1   \n",
       "2  شهداء في جنين وطولكرم واضراب عام بالضفة الغربي...      1   \n",
       "3  ابو عبيدة خسائر العدو اكبر بكثير مما يعلن وسنج...      1   \n",
       "4  شهداء بالضفة والاحتلال يشن حملة اعتقالات استشه...      1   \n",
       "\n",
       "                              full_news_no_stopwords  \n",
       "0  الضفة الغربية الاحتلال يهدم منزلا تاريخيا ومسي...  \n",
       "1  مظاهرات بمدن اوروبية تضامنا غزة وحشود داونينغ ...  \n",
       "2  شهداء جنين وطولكرم واضراب بالضفة الغربية تنديد...  \n",
       "3  ابو عبيدة خسائر العدو اكبر بكثير يعلن وسنجعل غ...  \n",
       "4  شهداء بالضفة والاحتلال يشن حملة اعتقالات استشه...  "
      ]
     },
     "execution_count": 82,
     "metadata": {},
     "output_type": "execute_result"
    }
   ],
   "source": [
    "processedData.head()"
   ]
  },
  {
   "cell_type": "code",
   "execution_count": 83,
   "id": "c5dfc092",
   "metadata": {},
   "outputs": [
    {
     "data": {
      "text/markdown": [
       "##  Original News Content"
      ],
      "text/plain": [
       "<IPython.core.display.Markdown object>"
      ]
     },
     "metadata": {},
     "output_type": "display_data"
    },
    {
     "data": {
      "text/markdown": [
       "**Title:** \"لا تتركونا نشيخ\".. القسام تنشر رسالة من أسرى إسرائيليين لحكومتهم"
      ],
      "text/plain": [
       "<IPython.core.display.Markdown object>"
      ]
     },
     "metadata": {},
     "output_type": "display_data"
    },
    {
     "data": {
      "text/markdown": [
       "**Length:** 1182 characters"
      ],
      "text/plain": [
       "<IPython.core.display.Markdown object>"
      ]
     },
     "metadata": {},
     "output_type": "display_data"
    },
    {
     "data": {
      "text/markdown": [
       "نشرت كتائب القسام -الجناح العسكري لحركة المقاومة الإسلامية (حماس)- مقطعا مرئيا يظهر فيه 3 أسرى إسرائيليين في قطاع غزة يطالبون قادتهم بعدم تركهم في الأسر و\"ألا يشيخوا فيه\".\r\n",
       "\r\n",
       "وقال أحد الأسرى الإسرائيليين ويُدعى حاييم بري (79 عاما)، إنه من كيبوتس نير عوز، وموجود في الأسر برفقة مجموعة كبار في السن، مرضى بأمراض مزمنة، ويعانون ظروفا قاسية للغاية.\r\n",
       "\r\n",
       "وأضاف \"نحن جيل بنى الدولة (إسرائيل)، ونحن شاركنا في بناء الجيش، ولا أفهم لماذا نحن متروكون هنا؟\"، قبل أن يكمل مناشدا على ما يبدو رئيس الوزراء الإسرائيلي بنيامين نتنياهو، بالقول \"يجب عليك أن تفرج عنا بكل ثمن\".\r\n",
       "\r\n",
       "وتابع \"نحن لا نريد أن نكون ضحايا لاستهدافات سلاح الجو، أفرج عنا من دون أي شرط، ولا تتركونا نشيخ\".\r\n",
       "\r\n",
       "ونجحت وساطة قطرية في التوصل إلى هدنة إنسانية مؤقتة استمرت أسبوعا، وتم خلالها الإفراج عن محتجزين إسرائيليين في قطاع غزة، مقابل إطلاق سراح أسرى فلسطينيين من النساء والأطفال وفق معادلة (1 مقابل 3)، قبل أن تنهار الهدنة مطلع ديسمبر/كانون الأول الجاري.\r\n",
       "\r\n",
       "وتتصاعد المظاهرات في تل أبيب المطالبة بضرورة إبرام صفقة تبادل جديدة خاصة بعد مقتل 3 أسرى إسرائيليين في غزة على يد قوات الاحتلال، وهو ما أثار موجة غضب عارمة وألقت مزيدا من الضغوط على حكومة نتنياهو اليمينية."
      ],
      "text/plain": [
       "<IPython.core.display.Markdown object>"
      ]
     },
     "metadata": {},
     "output_type": "display_data"
    },
    {
     "data": {
      "text/markdown": [
       "##  Cleaned News"
      ],
      "text/plain": [
       "<IPython.core.display.Markdown object>"
      ]
     },
     "metadata": {},
     "output_type": "display_data"
    },
    {
     "data": {
      "text/markdown": [
       "**Length:** 1131 characters"
      ],
      "text/plain": [
       "<IPython.core.display.Markdown object>"
      ]
     },
     "metadata": {},
     "output_type": "display_data"
    },
    {
     "data": {
      "text/markdown": [
       "لا تتركونا نشيخ القسام تنشر رسالة من اسرى اسرائيليين لحكومتهم نشرت كتائب القسام الجناح العسكري لحركة المقاومة الاسلامية حماس مقطعا مرئيا يظهر فيه  اسرى اسرائيليين في قطاع غزة يطالبون قادتهم بعدم تركهم في الاسر والا يشيخوا فيه\n",
       "وقال احد الاسرى الاسرائيليين ويدعى حاييم بري  عاما، انه من كيبوتس نير عوز، وموجود في الاسر برفقة مجموعة كبار في السن، مرضى بامراض مزمنة، ويعانون ظروفا قاسية للغاية\n",
       "واضاف نحن جيل بنى الدولة اسرائيل، ونحن شاركنا في بناء الجيش، ولا افهم لماذا نحن متروكون هنا؟، قبل ان يكمل مناشدا على ما يبدو رئيس الوزراء الاسرائيلي بنيامين نتنياهو، بالقول يجب عليك ان تفرج عنا بكل ثمن\n",
       "وتابع نحن لا نريد ان نكون ضحايا لاستهدافات سلاح الجو، افرج عنا من دون اي شرط، ولا تتركونا نشيخ\n",
       "ونجحت وساطة قطرية في التوصل الى هدنة انسانية مؤقتة استمرت اسبوعا، وتم خلالها الافراج عن محتجزين اسرائيليين في قطاع غزة، مقابل اطلاق سراح اسرى فلسطينيين من النساء والاطفال وفق معادلة  مقابل ، قبل ان تنهار الهدنة مطلع ديسمبركانون الاول الجاري\n",
       "وتتصاعد المظاهرات في تل ابيب المطالبة بضرورة ابرام صفقة تبادل جديدة خاصة بعد مقتل  اسرى اسرائيليين في غزة على يد قوات الاحتلال، وهو ما اثار موجة غضب عارمة والقت مزيدا من الضغوط على حكومة نتنياهو اليمينية"
      ],
      "text/plain": [
       "<IPython.core.display.Markdown object>"
      ]
     },
     "metadata": {},
     "output_type": "display_data"
    },
    {
     "data": {
      "text/markdown": [
       "##  Cleaned News (No Stopwords)"
      ],
      "text/plain": [
       "<IPython.core.display.Markdown object>"
      ]
     },
     "metadata": {},
     "output_type": "display_data"
    },
    {
     "data": {
      "text/markdown": [
       "**Length:** 936 characters"
      ],
      "text/plain": [
       "<IPython.core.display.Markdown object>"
      ]
     },
     "metadata": {},
     "output_type": "display_data"
    },
    {
     "data": {
      "text/markdown": [
       "تتركونا نشيخ القسام تنشر رسالة اسرى اسرائيليين لحكومتهم نشرت كتائب القسام الجناح العسكري لحركة المقاومة الاسلامية حماس مقطعا مرئيا يظهر اسرى اسرائيليين قطاع غزة يطالبون قادتهم بعدم تركهم الاسر والا يشيخوا الاسرى الاسرائيليين ويدعى حاييم بري عاما، كيبوتس نير عوز، وموجود الاسر برفقة مجموعة كبار السن، مرضى بامراض مزمنة، ويعانون ظروفا قاسية للغاية جيل بنى الدولة اسرائيل، ونحن شاركنا بناء الجيش، افهم متروكون هنا؟، يكمل مناشدا يبدو رئيس الوزراء الاسرائيلي بنيامين نتنياهو، بالقول يجب تفرج عنا بكل ثمن وتابع نريد نكون ضحايا لاستهدافات سلاح الجو، افرج عنا شرط، تتركونا نشيخ ونجحت وساطة قطرية التوصل هدنة انسانية مؤقتة استمرت اسبوعا، وتم خلالها الافراج محتجزين اسرائيليين قطاع غزة، اطلاق سراح اسرى فلسطينيين النساء والاطفال وفق معادلة تنهار الهدنة مطلع ديسمبركانون الجاري وتتصاعد المظاهرات تل ابيب المطالبة بضرورة ابرام صفقة تبادل جديدة مقتل اسرى اسرائيليين غزة يد قوات الاحتلال، اثار موجة غضب عارمة والقت مزيدا الضغوط حكومة نتنياهو اليمينية"
      ],
      "text/plain": [
       "<IPython.core.display.Markdown object>"
      ]
     },
     "metadata": {},
     "output_type": "display_data"
    }
   ],
   "source": [
    "from IPython.display import display, Markdown\n",
    "test = 800\n",
    "\n",
    "original_title = data.iloc[test]['title']\n",
    "original_content = data.iloc[test]['News content']\n",
    "\n",
    "cleaned = processedData.iloc[test]['full_news']\n",
    "cleaned_no_stopwords = processedData.iloc[test]['full_news_no_stopwords']\n",
    "\n",
    "display(Markdown(\"##  Original News Content\"))\n",
    "display(Markdown(f\"**Title:** {original_title}\"))\n",
    "display(Markdown(f\"**Length:** {len(original_title + ' ' + original_content)} characters\"))\n",
    "display(Markdown(original_content))\n",
    "\n",
    "display(Markdown(\"##  Cleaned News\"))\n",
    "display(Markdown(f\"**Length:** {len(cleaned)} characters\"))\n",
    "display(Markdown(cleaned))\n",
    "\n",
    "display(Markdown(\"##  Cleaned News (No Stopwords)\"))\n",
    "display(Markdown(f\"**Length:** {len(cleaned_no_stopwords)} characters\"))\n",
    "display(Markdown(cleaned_no_stopwords))\n"
   ]
  },
  {
   "cell_type": "markdown",
   "id": "9a89152d",
   "metadata": {},
   "source": [
    "## Remove NERs"
   ]
  },
  {
   "cell_type": "code",
   "execution_count": 84,
   "id": "4fd3ccb8",
   "metadata": {},
   "outputs": [],
   "source": [
    "# !pip install --upgrade torch numpy stanza\n",
    "# !pip install numpy --upgrade\n",
    "# import stanza\n",
    "# stanza.download('ar')\n",
    "\n"
   ]
  },
  {
   "cell_type": "code",
   "execution_count": 85,
   "id": "6a2a7806",
   "metadata": {},
   "outputs": [],
   "source": [
    "# import pandas as pd\n",
    "# import re\n",
    "# import pandas as pd\n",
    "# processedData = pd.read_csv(\"ProcessedData_StopwordsStep.csv\")\n",
    "# processedData.head()"
   ]
  },
  {
   "cell_type": "code",
   "execution_count": 86,
   "id": "628461f5",
   "metadata": {},
   "outputs": [],
   "source": [
    "# nlp = stanza.Pipeline(lang='ar',processors='tokenize,ner')\n",
    "\n",
    "# def remove_named_entities_stanza(text):\n",
    "#     doc = nlp(text)\n",
    "#     ents = [ent.text for ent in doc.ents]\n",
    "    \n",
    "#     for ent in ents:\n",
    "#         text = text.replace(ent, '')\n",
    "    \n",
    "#     return text.strip()"
   ]
  },
  {
   "cell_type": "code",
   "execution_count": 87,
   "id": "922352a1",
   "metadata": {},
   "outputs": [],
   "source": [
    "# processedData['full_news_no_ner'] = processedData['full_news_no_stopwords'].apply(remove_named_entities_stanza)\n",
    "\n"
   ]
  },
  {
   "cell_type": "code",
   "execution_count": 88,
   "id": "9ac55df8",
   "metadata": {},
   "outputs": [
    {
     "data": {
      "text/html": [
       "<div>\n",
       "<style scoped>\n",
       "    .dataframe tbody tr th:only-of-type {\n",
       "        vertical-align: middle;\n",
       "    }\n",
       "\n",
       "    .dataframe tbody tr th {\n",
       "        vertical-align: top;\n",
       "    }\n",
       "\n",
       "    .dataframe thead th {\n",
       "        text-align: right;\n",
       "    }\n",
       "</style>\n",
       "<table border=\"1\" class=\"dataframe\">\n",
       "  <thead>\n",
       "    <tr style=\"text-align: right;\">\n",
       "      <th></th>\n",
       "      <th>full_news</th>\n",
       "      <th>Label</th>\n",
       "      <th>full_news_no_stopwords</th>\n",
       "      <th>full_news_no_ner</th>\n",
       "    </tr>\n",
       "  </thead>\n",
       "  <tbody>\n",
       "    <tr>\n",
       "      <th>0</th>\n",
       "      <td>الضفة الغربية الاحتلال يهدم  منزلا تاريخيا ومس...</td>\n",
       "      <td>1</td>\n",
       "      <td>الضفة الغربية الاحتلال يهدم منزلا تاريخيا ومسي...</td>\n",
       "      <td>الضفة الغربية الاحتلال يهدم منزلا تاريخيا ومسي...</td>\n",
       "    </tr>\n",
       "    <tr>\n",
       "      <th>1</th>\n",
       "      <td>مظاهرات بمدن اوروبية تضامنا مع غزة وحشود امام ...</td>\n",
       "      <td>1</td>\n",
       "      <td>مظاهرات بمدن اوروبية تضامنا غزة وحشود داونينغ ...</td>\n",
       "      <td>مظاهرات بمدن  تضامنا  وحشود  خرجت مظاهرات المد...</td>\n",
       "    </tr>\n",
       "    <tr>\n",
       "      <th>2</th>\n",
       "      <td>شهداء في جنين وطولكرم واضراب عام بالضفة الغربي...</td>\n",
       "      <td>1</td>\n",
       "      <td>شهداء جنين وطولكرم واضراب بالضفة الغربية تنديد...</td>\n",
       "      <td>شهداء   واضراب  تنديدا بمجازر  استشهد  واعتقل ...</td>\n",
       "    </tr>\n",
       "    <tr>\n",
       "      <th>3</th>\n",
       "      <td>ابو عبيدة خسائر العدو اكبر بكثير مما يعلن وسنج...</td>\n",
       "      <td>1</td>\n",
       "      <td>ابو عبيدة خسائر العدو اكبر بكثير يعلن وسنجعل غ...</td>\n",
       "      <td>خسائر العدو اكبر بكثير يعلن وسنجعل  لعنة التار...</td>\n",
       "    </tr>\n",
       "    <tr>\n",
       "      <th>4</th>\n",
       "      <td>شهداء بالضفة والاحتلال يشن حملة اعتقالات استشه...</td>\n",
       "      <td>1</td>\n",
       "      <td>شهداء بالضفة والاحتلال يشن حملة اعتقالات استشه...</td>\n",
       "      <td>شهداء بالضفة والاحتلال يشن حملة اعتقالات استشه...</td>\n",
       "    </tr>\n",
       "    <tr>\n",
       "      <th>...</th>\n",
       "      <td>...</td>\n",
       "      <td>...</td>\n",
       "      <td>...</td>\n",
       "      <td>...</td>\n",
       "    </tr>\n",
       "    <tr>\n",
       "      <th>5346</th>\n",
       "      <td>الحرب على غزة مباشر المقاومة تكبد الاحتلال خسا...</td>\n",
       "      <td>1</td>\n",
       "      <td>الحرب غزة مباشر المقاومة تكبد الاحتلال خسائر ك...</td>\n",
       "      <td>الحرب  مباشر المقاومة تكبد الاحتلال خسائر كبير...</td>\n",
       "    </tr>\n",
       "    <tr>\n",
       "      <th>5347</th>\n",
       "      <td>تصريح قديم لمقاتل من كتائب القسام حول اشتباكات...</td>\n",
       "      <td>0</td>\n",
       "      <td>تصريح قديم لمقاتل كتائب القسام اشتباكات قوات ا...</td>\n",
       "      <td>تصريح قديم لمقاتل  اشتباكات  الحرب الجارية تتد...</td>\n",
       "    </tr>\n",
       "    <tr>\n",
       "      <th>5348</th>\n",
       "      <td>الفيديو الذي يهدد فيه احمد موسى حماس قديم وليس...</td>\n",
       "      <td>0</td>\n",
       "      <td>الفيديو يهدد احمد موسى حماس قديم الحرب غزة تتد...</td>\n",
       "      <td>الفيديو يهدد  قديم الحرب  تتداول صفحات وحسابات...</td>\n",
       "    </tr>\n",
       "    <tr>\n",
       "      <th>5349</th>\n",
       "      <td>تدعم قطع الدعم عن الاونروا منظمات دولية تنشر ت...</td>\n",
       "      <td>1</td>\n",
       "      <td>تدعم قطع الدعم الاونروا منظمات دولية تنشر تقار...</td>\n",
       "      <td>تدعم قطع الدعم  منظمات دولية تنشر تقارير دقيقة...</td>\n",
       "    </tr>\n",
       "    <tr>\n",
       "      <th>5350</th>\n",
       "      <td>كيف يمكن لصور الخرائط والمصادر المفتوحة المساع...</td>\n",
       "      <td>1</td>\n",
       "      <td>لصور الخرائط والمصادر المفتوحة المساعدة معرفة ...</td>\n",
       "      <td>لصور الخرائط والمصادر المفتوحة المساعدة معرفة ...</td>\n",
       "    </tr>\n",
       "  </tbody>\n",
       "</table>\n",
       "<p>5351 rows × 4 columns</p>\n",
       "</div>"
      ],
      "text/plain": [
       "                                              full_news  Label  \\\n",
       "0     الضفة الغربية الاحتلال يهدم  منزلا تاريخيا ومس...      1   \n",
       "1     مظاهرات بمدن اوروبية تضامنا مع غزة وحشود امام ...      1   \n",
       "2     شهداء في جنين وطولكرم واضراب عام بالضفة الغربي...      1   \n",
       "3     ابو عبيدة خسائر العدو اكبر بكثير مما يعلن وسنج...      1   \n",
       "4     شهداء بالضفة والاحتلال يشن حملة اعتقالات استشه...      1   \n",
       "...                                                 ...    ...   \n",
       "5346  الحرب على غزة مباشر المقاومة تكبد الاحتلال خسا...      1   \n",
       "5347  تصريح قديم لمقاتل من كتائب القسام حول اشتباكات...      0   \n",
       "5348  الفيديو الذي يهدد فيه احمد موسى حماس قديم وليس...      0   \n",
       "5349  تدعم قطع الدعم عن الاونروا منظمات دولية تنشر ت...      1   \n",
       "5350  كيف يمكن لصور الخرائط والمصادر المفتوحة المساع...      1   \n",
       "\n",
       "                                 full_news_no_stopwords  \\\n",
       "0     الضفة الغربية الاحتلال يهدم منزلا تاريخيا ومسي...   \n",
       "1     مظاهرات بمدن اوروبية تضامنا غزة وحشود داونينغ ...   \n",
       "2     شهداء جنين وطولكرم واضراب بالضفة الغربية تنديد...   \n",
       "3     ابو عبيدة خسائر العدو اكبر بكثير يعلن وسنجعل غ...   \n",
       "4     شهداء بالضفة والاحتلال يشن حملة اعتقالات استشه...   \n",
       "...                                                 ...   \n",
       "5346  الحرب غزة مباشر المقاومة تكبد الاحتلال خسائر ك...   \n",
       "5347  تصريح قديم لمقاتل كتائب القسام اشتباكات قوات ا...   \n",
       "5348  الفيديو يهدد احمد موسى حماس قديم الحرب غزة تتد...   \n",
       "5349  تدعم قطع الدعم الاونروا منظمات دولية تنشر تقار...   \n",
       "5350  لصور الخرائط والمصادر المفتوحة المساعدة معرفة ...   \n",
       "\n",
       "                                       full_news_no_ner  \n",
       "0     الضفة الغربية الاحتلال يهدم منزلا تاريخيا ومسي...  \n",
       "1     مظاهرات بمدن  تضامنا  وحشود  خرجت مظاهرات المد...  \n",
       "2     شهداء   واضراب  تنديدا بمجازر  استشهد  واعتقل ...  \n",
       "3     خسائر العدو اكبر بكثير يعلن وسنجعل  لعنة التار...  \n",
       "4     شهداء بالضفة والاحتلال يشن حملة اعتقالات استشه...  \n",
       "...                                                 ...  \n",
       "5346  الحرب  مباشر المقاومة تكبد الاحتلال خسائر كبير...  \n",
       "5347  تصريح قديم لمقاتل  اشتباكات  الحرب الجارية تتد...  \n",
       "5348  الفيديو يهدد  قديم الحرب  تتداول صفحات وحسابات...  \n",
       "5349  تدعم قطع الدعم  منظمات دولية تنشر تقارير دقيقة...  \n",
       "5350  لصور الخرائط والمصادر المفتوحة المساعدة معرفة ...  \n",
       "\n",
       "[5351 rows x 4 columns]"
      ]
     },
     "execution_count": 88,
     "metadata": {},
     "output_type": "execute_result"
    }
   ],
   "source": [
    "processedDataNoStopwordsNoNERs = pd.read_csv('processedDataNoStopwordsNoNERs.csv')\n",
    "processedDataNoStopwordsNoNERs\n"
   ]
  },
  {
   "cell_type": "markdown",
   "id": "7b8a3f1c",
   "metadata": {},
   "source": [
    "## Lemmatization "
   ]
  },
  {
   "cell_type": "code",
   "execution_count": 89,
   "id": "4e27a4ef",
   "metadata": {},
   "outputs": [],
   "source": [
    "# import stanza\n",
    "# from tqdm import tqdm \n",
    "\n",
    "# stanza.download('ar')\n",
    "# nlp = stanza.Pipeline(lang='ar', processors='tokenize,mwt,pos,lemma')\n",
    "# tqdm.pandas()\n",
    "\n",
    "# def lemmatize_text(text):\n",
    "#     try:\n",
    "#         doc = nlp(text)\n",
    "#         lemmas = [word.lemma for sent in doc.sentences for word in sent.words]\n",
    "#         return ' '.join(lemmas)\n",
    "#     except:\n",
    "#         return ''  \n",
    "    \n",
    "# processedDataNoStopwordsNoNERs['full_news_lemma'] = processedDataNoStopwordsNoNERs['full_news_no_ner'].progress_apply(lemmatize_text)\n",
    "# processedDataNoStopwordsNoNERs.to_csv('processedDataLemma.csv', index=False, encoding='utf-8-sig')\n"
   ]
  },
  {
   "cell_type": "code",
   "execution_count": 90,
   "id": "6178aac5",
   "metadata": {},
   "outputs": [],
   "source": [
    "# import re\n",
    "\n",
    "# def remove_diacritics(text):\n",
    "#     arabic_diacritics = re.compile(r'[\\u0617-\\u061A\\u064B-\\u0652]')\n",
    "#     return re.sub(arabic_diacritics, '', text)\n",
    "\n",
    "# processedDataNoStopwordsNoNERs['full_news_lemma_clean'] = processedDataNoStopwordsNoNERs['full_news_lemma'].astype(str).apply(remove_diacritics)\n"
   ]
  },
  {
   "cell_type": "code",
   "execution_count": 91,
   "id": "edf48c5d",
   "metadata": {},
   "outputs": [
    {
     "data": {
      "text/html": [
       "<div>\n",
       "<style scoped>\n",
       "    .dataframe tbody tr th:only-of-type {\n",
       "        vertical-align: middle;\n",
       "    }\n",
       "\n",
       "    .dataframe tbody tr th {\n",
       "        vertical-align: top;\n",
       "    }\n",
       "\n",
       "    .dataframe thead th {\n",
       "        text-align: right;\n",
       "    }\n",
       "</style>\n",
       "<table border=\"1\" class=\"dataframe\">\n",
       "  <thead>\n",
       "    <tr style=\"text-align: right;\">\n",
       "      <th></th>\n",
       "      <th>full_news</th>\n",
       "      <th>Label</th>\n",
       "      <th>full_news_no_stopwords</th>\n",
       "      <th>full_news_no_ner</th>\n",
       "      <th>full_news_lemma</th>\n",
       "      <th>full_news_lemma_clean</th>\n",
       "    </tr>\n",
       "  </thead>\n",
       "  <tbody>\n",
       "    <tr>\n",
       "      <th>0</th>\n",
       "      <td>الضفة الغربية الاحتلال يهدم  منزلا تاريخيا ومس...</td>\n",
       "      <td>1</td>\n",
       "      <td>الضفة الغربية الاحتلال يهدم منزلا تاريخيا ومسي...</td>\n",
       "      <td>الضفة الغربية الاحتلال يهدم منزلا تاريخيا ومسي...</td>\n",
       "      <td>ضِفَّة غَربِيّ اِحتِلَال هَدَم مَنزِل تَارِيخِ...</td>\n",
       "      <td>ضفة غربي احتلال هدم منزل تاريخي و مسيرة ندد ب ...</td>\n",
       "    </tr>\n",
       "    <tr>\n",
       "      <th>1</th>\n",
       "      <td>مظاهرات بمدن اوروبية تضامنا مع غزة وحشود امام ...</td>\n",
       "      <td>1</td>\n",
       "      <td>مظاهرات بمدن اوروبية تضامنا غزة وحشود داونينغ ...</td>\n",
       "      <td>مظاهرات بمدن  تضامنا  وحشود  خرجت مظاهرات المد...</td>\n",
       "      <td>مُظَاهَرَة بِ مَدِينَة أَضَام هُوَ وَ حَشد خَر...</td>\n",
       "      <td>مظاهرة ب مدينة أضام هو و حشد خرج مظاهرة مدينة ...</td>\n",
       "    </tr>\n",
       "  </tbody>\n",
       "</table>\n",
       "</div>"
      ],
      "text/plain": [
       "                                           full_news  Label  \\\n",
       "0  الضفة الغربية الاحتلال يهدم  منزلا تاريخيا ومس...      1   \n",
       "1  مظاهرات بمدن اوروبية تضامنا مع غزة وحشود امام ...      1   \n",
       "\n",
       "                              full_news_no_stopwords  \\\n",
       "0  الضفة الغربية الاحتلال يهدم منزلا تاريخيا ومسي...   \n",
       "1  مظاهرات بمدن اوروبية تضامنا غزة وحشود داونينغ ...   \n",
       "\n",
       "                                    full_news_no_ner  \\\n",
       "0  الضفة الغربية الاحتلال يهدم منزلا تاريخيا ومسي...   \n",
       "1  مظاهرات بمدن  تضامنا  وحشود  خرجت مظاهرات المد...   \n",
       "\n",
       "                                     full_news_lemma  \\\n",
       "0  ضِفَّة غَربِيّ اِحتِلَال هَدَم مَنزِل تَارِيخِ...   \n",
       "1  مُظَاهَرَة بِ مَدِينَة أَضَام هُوَ وَ حَشد خَر...   \n",
       "\n",
       "                               full_news_lemma_clean  \n",
       "0  ضفة غربي احتلال هدم منزل تاريخي و مسيرة ندد ب ...  \n",
       "1  مظاهرة ب مدينة أضام هو و حشد خرج مظاهرة مدينة ...  "
      ]
     },
     "execution_count": 91,
     "metadata": {},
     "output_type": "execute_result"
    }
   ],
   "source": [
    "processedDataLemma = pd.read_csv('processedDataLemma.csv')\n",
    "processedDataLemma.head(2)\n"
   ]
  },
  {
   "cell_type": "code",
   "execution_count": 98,
   "id": "e87e4e4a",
   "metadata": {},
   "outputs": [
    {
     "data": {
      "text/markdown": [
       "##  Cleaned News"
      ],
      "text/plain": [
       "<IPython.core.display.Markdown object>"
      ]
     },
     "metadata": {},
     "output_type": "display_data"
    },
    {
     "data": {
      "text/markdown": [
       "**Length:** 255 characters"
      ],
      "text/plain": [
       "<IPython.core.display.Markdown object>"
      ]
     },
     "metadata": {},
     "output_type": "display_data"
    },
    {
     "data": {
      "text/markdown": [
       "الفيديو من المكسيك وليس من الاشتباكات الاخيرة بين المقاومة وقوات الاحتلال تتداول حسابات وصفحات على مواقع التواصل الاجتماعي، منذ قليل، مقطع فيديو ادعت انه من الاشتباكات العنيفة الاخيرة بين المقاومة وقوات الاحتلال في مستوطنات غلاف غزة بعد عملية طوفان الاقصى"
      ],
      "text/plain": [
       "<IPython.core.display.Markdown object>"
      ]
     },
     "metadata": {},
     "output_type": "display_data"
    },
    {
     "data": {
      "text/markdown": [
       "##  Cleaned News (No Stopwords)"
      ],
      "text/plain": [
       "<IPython.core.display.Markdown object>"
      ]
     },
     "metadata": {},
     "output_type": "display_data"
    },
    {
     "data": {
      "text/markdown": [
       "**Length:** 198 characters"
      ],
      "text/plain": [
       "<IPython.core.display.Markdown object>"
      ]
     },
     "metadata": {},
     "output_type": "display_data"
    },
    {
     "data": {
      "text/markdown": [
       "الفيديو المكسيك الاشتباكات المقاومة وقوات الاحتلال تتداول حسابات وصفحات مواقع التواصل الاجتماعي، قليل، مقطع فيديو ادعت الاشتباكات العنيفة المقاومة وقوات الاحتلال مستوطنات غلاف غزة عملية طوفان الاقصى"
      ],
      "text/plain": [
       "<IPython.core.display.Markdown object>"
      ]
     },
     "metadata": {},
     "output_type": "display_data"
    },
    {
     "data": {
      "text/markdown": [
       "##  Cleaned News (No Ners)"
      ],
      "text/plain": [
       "<IPython.core.display.Markdown object>"
      ]
     },
     "metadata": {},
     "output_type": "display_data"
    },
    {
     "data": {
      "text/markdown": [
       "**Length:** 160 characters"
      ],
      "text/plain": [
       "<IPython.core.display.Markdown object>"
      ]
     },
     "metadata": {},
     "output_type": "display_data"
    },
    {
     "data": {
      "text/markdown": [
       "الفيديو  الاشتباكات المقاومة  تتداول حسابات وصفحات مواقع التواصل الاجتماعي، قليل، مقطع فيديو ادعت الاشتباكات العنيفة المقاومة  مستوطنات غلاف  عملية طوفان الاقصى"
      ],
      "text/plain": [
       "<IPython.core.display.Markdown object>"
      ]
     },
     "metadata": {},
     "output_type": "display_data"
    },
    {
     "data": {
      "text/markdown": [
       "##  Cleaned News (Lemma)"
      ],
      "text/plain": [
       "<IPython.core.display.Markdown object>"
      ]
     },
     "metadata": {},
     "output_type": "display_data"
    },
    {
     "data": {
      "text/markdown": [
       "**Length:** 185 characters"
      ],
      "text/plain": [
       "<IPython.core.display.Markdown object>"
      ]
     },
     "metadata": {},
     "output_type": "display_data"
    },
    {
     "data": {
      "text/markdown": [
       "الفيديو اِشتِبَاك مُقَاوَمَة تَدَاوَل حِسَاب وَ صَفحَة مَوقِع تَوَاصُل اِجتِمَاعِيّ ، قَلِيل ، مَقطَع فيديو أَدعَى اِشتِبَاك عَنِيف مُقَاوَمَة مُستَوطَنَة غِلَاف عَمَلِيَّة طوفان أَقصَى"
      ],
      "text/plain": [
       "<IPython.core.display.Markdown object>"
      ]
     },
     "metadata": {},
     "output_type": "display_data"
    },
    {
     "data": {
      "text/markdown": [
       "##  Cleaned News (Lemma No Diacritics )"
      ],
      "text/plain": [
       "<IPython.core.display.Markdown object>"
      ]
     },
     "metadata": {},
     "output_type": "display_data"
    },
    {
     "data": {
      "text/markdown": [
       "**Length:** 132 characters"
      ],
      "text/plain": [
       "<IPython.core.display.Markdown object>"
      ]
     },
     "metadata": {},
     "output_type": "display_data"
    },
    {
     "data": {
      "text/markdown": [
       "الفيديو اشتباك مقاومة تداول حساب و صفحة موقع تواصل اجتماعي ، قليل ، مقطع فيديو أدعى اشتباك عنيف مقاومة مستوطنة غلاف عملية طوفان أقصى"
      ],
      "text/plain": [
       "<IPython.core.display.Markdown object>"
      ]
     },
     "metadata": {},
     "output_type": "display_data"
    }
   ],
   "source": [
    "from IPython.display import display, Markdown\n",
    "test = 70\n",
    "\n",
    "\n",
    "cleaned = processedDataLemma.iloc[test]['full_news']\n",
    "cleaned_no_stopwords = processedDataLemma.iloc[test]['full_news_no_stopwords']\n",
    "cleaned_no_ner = processedDataLemma.iloc[test]['full_news_no_ner']\n",
    "full_news_lemma = processedDataLemma.iloc[test]['full_news_lemma']\n",
    "full_news_lemma_clean = processedDataLemma.iloc[test]['full_news_lemma_clean']\n",
    "\n",
    "\n",
    "\n",
    "display(Markdown(\"##  Cleaned News\"))\n",
    "display(Markdown(f\"**Length:** {len(cleaned)} characters\"))\n",
    "display(Markdown(cleaned))\n",
    "\n",
    "display(Markdown(\"##  Cleaned News (No Stopwords)\"))\n",
    "display(Markdown(f\"**Length:** {len(cleaned_no_stopwords)} characters\"))\n",
    "display(Markdown(cleaned_no_stopwords))\n",
    "\n",
    "\n",
    "display(Markdown(\"##  Cleaned News (No Ners)\"))\n",
    "display(Markdown(f\"**Length:** {len(cleaned_no_ner)} characters\"))\n",
    "display(Markdown(cleaned_no_ner))\n",
    "\n",
    "\n",
    "display(Markdown(\"##  Cleaned News (Lemma)\"))\n",
    "display(Markdown(f\"**Length:** {len(full_news_lemma)} characters\"))\n",
    "display(Markdown(full_news_lemma))\n",
    "\n",
    "display(Markdown(\"##  Cleaned News (Lemma No Diacritics )\"))\n",
    "display(Markdown(f\"**Length:** {len(full_news_lemma_clean)} characters\"))\n",
    "display(Markdown(full_news_lemma_clean))\n",
    "\n"
   ]
  },
  {
   "cell_type": "markdown",
   "id": "636ea1b7",
   "metadata": {},
   "source": [
    "## Feature Extraction: TF-IDF"
   ]
  },
  {
   "cell_type": "code",
   "execution_count": 93,
   "id": "ce0169fc",
   "metadata": {},
   "outputs": [],
   "source": [
    "import pandas as pd\n",
    "from sklearn.feature_extraction.text import TfidfVectorizer\n"
   ]
  },
  {
   "cell_type": "code",
   "execution_count": 94,
   "id": "1b082f25",
   "metadata": {},
   "outputs": [],
   "source": [
    "vectorizer = TfidfVectorizer(max_features=5000)\n",
    "X_tfidf = vectorizer.fit_transform(processedDataLemma['full_news_lemma_clean'].astype(str))\n",
    "\n",
    "tfidf_df = pd.DataFrame(X_tfidf.toarray(), columns=vectorizer.get_feature_names_out())\n"
   ]
  },
  {
   "cell_type": "code",
   "execution_count": 95,
   "id": "4c6972be",
   "metadata": {},
   "outputs": [
    {
     "data": {
      "text/plain": [
       "(5351, 5000)"
      ]
     },
     "execution_count": 95,
     "metadata": {},
     "output_type": "execute_result"
    }
   ],
   "source": [
    "tfidf_df.shape"
   ]
  },
  {
   "cell_type": "code",
   "execution_count": 96,
   "id": "ff842773",
   "metadata": {},
   "outputs": [
    {
     "data": {
      "text/html": [
       "<div>\n",
       "<style scoped>\n",
       "    .dataframe tbody tr th:only-of-type {\n",
       "        vertical-align: middle;\n",
       "    }\n",
       "\n",
       "    .dataframe tbody tr th {\n",
       "        vertical-align: top;\n",
       "    }\n",
       "\n",
       "    .dataframe thead th {\n",
       "        text-align: right;\n",
       "    }\n",
       "</style>\n",
       "<table border=\"1\" class=\"dataframe\">\n",
       "  <thead>\n",
       "    <tr style=\"text-align: right;\">\n",
       "      <th></th>\n",
       "      <th>آب</th>\n",
       "      <th>آخر</th>\n",
       "      <th>آل</th>\n",
       "      <th>آلة</th>\n",
       "      <th>آمن</th>\n",
       "      <th>آن</th>\n",
       "      <th>آنذاك</th>\n",
       "      <th>آنس</th>\n",
       "      <th>آوى</th>\n",
       "      <th>أب</th>\n",
       "      <th>...</th>\n",
       "      <th>يوليوتموز</th>\n",
       "      <th>يوم</th>\n",
       "      <th>يومي</th>\n",
       "      <th>يون</th>\n",
       "      <th>يونس</th>\n",
       "      <th>يوني</th>\n",
       "      <th>يونيوحزيان</th>\n",
       "      <th>يونيوحزيران</th>\n",
       "      <th>يين</th>\n",
       "      <th>١٤</th>\n",
       "    </tr>\n",
       "  </thead>\n",
       "  <tbody>\n",
       "    <tr>\n",
       "      <th>0</th>\n",
       "      <td>0.0</td>\n",
       "      <td>0.046916</td>\n",
       "      <td>0.0</td>\n",
       "      <td>0.0</td>\n",
       "      <td>0.0</td>\n",
       "      <td>0.0</td>\n",
       "      <td>0.0</td>\n",
       "      <td>0.0</td>\n",
       "      <td>0.0</td>\n",
       "      <td>0.0</td>\n",
       "      <td>...</td>\n",
       "      <td>0.0</td>\n",
       "      <td>0.053399</td>\n",
       "      <td>0.039006</td>\n",
       "      <td>0.0</td>\n",
       "      <td>0.0</td>\n",
       "      <td>0.0</td>\n",
       "      <td>0.0</td>\n",
       "      <td>0.0</td>\n",
       "      <td>0.0</td>\n",
       "      <td>0.0</td>\n",
       "    </tr>\n",
       "    <tr>\n",
       "      <th>1</th>\n",
       "      <td>0.0</td>\n",
       "      <td>0.000000</td>\n",
       "      <td>0.0</td>\n",
       "      <td>0.0</td>\n",
       "      <td>0.0</td>\n",
       "      <td>0.0</td>\n",
       "      <td>0.0</td>\n",
       "      <td>0.0</td>\n",
       "      <td>0.0</td>\n",
       "      <td>0.0</td>\n",
       "      <td>...</td>\n",
       "      <td>0.0</td>\n",
       "      <td>0.038795</td>\n",
       "      <td>0.000000</td>\n",
       "      <td>0.0</td>\n",
       "      <td>0.0</td>\n",
       "      <td>0.0</td>\n",
       "      <td>0.0</td>\n",
       "      <td>0.0</td>\n",
       "      <td>0.0</td>\n",
       "      <td>0.0</td>\n",
       "    </tr>\n",
       "    <tr>\n",
       "      <th>2</th>\n",
       "      <td>0.0</td>\n",
       "      <td>0.055778</td>\n",
       "      <td>0.0</td>\n",
       "      <td>0.0</td>\n",
       "      <td>0.0</td>\n",
       "      <td>0.0</td>\n",
       "      <td>0.0</td>\n",
       "      <td>0.0</td>\n",
       "      <td>0.0</td>\n",
       "      <td>0.0</td>\n",
       "      <td>...</td>\n",
       "      <td>0.0</td>\n",
       "      <td>0.000000</td>\n",
       "      <td>0.000000</td>\n",
       "      <td>0.0</td>\n",
       "      <td>0.0</td>\n",
       "      <td>0.0</td>\n",
       "      <td>0.0</td>\n",
       "      <td>0.0</td>\n",
       "      <td>0.0</td>\n",
       "      <td>0.0</td>\n",
       "    </tr>\n",
       "  </tbody>\n",
       "</table>\n",
       "<p>3 rows × 5000 columns</p>\n",
       "</div>"
      ],
      "text/plain": [
       "    آب       آخر   آل  آلة  آمن   آن  آنذاك  آنس  آوى   أب  ...  يوليوتموز  \\\n",
       "0  0.0  0.046916  0.0  0.0  0.0  0.0    0.0  0.0  0.0  0.0  ...        0.0   \n",
       "1  0.0  0.000000  0.0  0.0  0.0  0.0    0.0  0.0  0.0  0.0  ...        0.0   \n",
       "2  0.0  0.055778  0.0  0.0  0.0  0.0    0.0  0.0  0.0  0.0  ...        0.0   \n",
       "\n",
       "        يوم      يومي  يون  يونس  يوني  يونيوحزيان  يونيوحزيران  يين   ١٤  \n",
       "0  0.053399  0.039006  0.0   0.0   0.0         0.0          0.0  0.0  0.0  \n",
       "1  0.038795  0.000000  0.0   0.0   0.0         0.0          0.0  0.0  0.0  \n",
       "2  0.000000  0.000000  0.0   0.0   0.0         0.0          0.0  0.0  0.0  \n",
       "\n",
       "[3 rows x 5000 columns]"
      ]
     },
     "execution_count": 96,
     "metadata": {},
     "output_type": "execute_result"
    }
   ],
   "source": [
    "tfidf_df.head(3)"
   ]
  },
  {
   "cell_type": "code",
   "execution_count": 97,
   "id": "71ac9a22",
   "metadata": {},
   "outputs": [
    {
     "name": "stdout",
     "output_type": "stream",
     "text": [
      "                                  full_news_lemma_clean              Top words\n",
      "5341  حرب مباشر قسام بث مشهد جديد ل معركة و حراك متس...    [حراك, جديد, متفرق]\n",
      "5342  الحيثيات متعلق ب مقطع فيديو أظهر نازح اهتفى ؟ ...     [مشهد, احتلال, هو]\n",
      "5343  الفيديو اشتباك قديم نشر حساب ب عربي موقع ، أمس...  [عربي, الفيديو, مسعف]\n",
      "5344  الفيديو قديم ل مقتل قناص إسرائيلي تداول حساب و...     [قناص, مقتل, ادعى]\n",
      "5345  توسع مداهمة هو و اقتحم محور اقتحم إسرائيلي مدي...     [داهم, هو, اقتحام]\n",
      "5346  حرب مباشر مقاومة تكبد احتلال خسارة كبير و خلاف...     [تكبد, خلاف, أوقع]\n",
      "5347  تصريح قديم ل مقتل اشتباك حرب جاري تداول حساب و...   [مقتل, تحدث, اشتباك]\n",
      "5348  الفيديو هدد قديم حرب تداول صفحة و حساب موقعي ت...        [هدد, حد, حديث]\n",
      "5349  دعم قطعة دعم منظمة دولي نشر تقرير دقيق تقاطع ر...    [منظمة, مراقبة, هو]\n",
      "5350  لصر خريطة و مصدر مفتوح مساعدة معرفة حي و مبنى ...    [ضرر, خريطة, متضرر]\n"
     ]
    }
   ],
   "source": [
    "# (Additional) Top words for each new \n",
    "top_words_per_doc = tfidf_df.apply(lambda row: row.sort_values(ascending=False).head(3).index.tolist(), axis=1)\n",
    "processedDataLemma['Top words'] = top_words_per_doc\n",
    "print(processedDataLemma[['full_news_lemma_clean', 'Top words']].tail(10))\n"
   ]
  }
 ],
 "metadata": {
  "kernelspec": {
   "display_name": "Python 3",
   "language": "python",
   "name": "python3"
  },
  "language_info": {
   "codemirror_mode": {
    "name": "ipython",
    "version": 3
   },
   "file_extension": ".py",
   "mimetype": "text/x-python",
   "name": "python",
   "nbconvert_exporter": "python",
   "pygments_lexer": "ipython3",
   "version": "3.11.2"
  }
 },
 "nbformat": 4,
 "nbformat_minor": 5
}
