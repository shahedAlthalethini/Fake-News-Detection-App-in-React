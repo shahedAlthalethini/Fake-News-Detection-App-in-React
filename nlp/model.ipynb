{
 "cells": [
  {
   "cell_type": "code",
   "execution_count": 294,
   "id": "a4bf8cc2",
   "metadata": {},
   "outputs": [
    {
     "data": {
      "text/html": [
       "<div>\n",
       "<style scoped>\n",
       "    .dataframe tbody tr th:only-of-type {\n",
       "        vertical-align: middle;\n",
       "    }\n",
       "\n",
       "    .dataframe tbody tr th {\n",
       "        vertical-align: top;\n",
       "    }\n",
       "\n",
       "    .dataframe thead th {\n",
       "        text-align: right;\n",
       "    }\n",
       "</style>\n",
       "<table border=\"1\" class=\"dataframe\">\n",
       "  <thead>\n",
       "    <tr style=\"text-align: right;\">\n",
       "      <th></th>\n",
       "      <th>full_news</th>\n",
       "      <th>Label</th>\n",
       "      <th>full_news_no_stopwords</th>\n",
       "      <th>full_news_no_ner</th>\n",
       "      <th>full_news_lemma</th>\n",
       "      <th>full_news_lemma_clean</th>\n",
       "    </tr>\n",
       "  </thead>\n",
       "  <tbody>\n",
       "    <tr>\n",
       "      <th>0</th>\n",
       "      <td>الضفة الغربية الاحتلال يهدم  منزلا تاريخيا ومس...</td>\n",
       "      <td>1</td>\n",
       "      <td>الضفة الغربية الاحتلال يهدم منزلا تاريخيا ومسي...</td>\n",
       "      <td>الضفة الغربية الاحتلال يهدم منزلا تاريخيا ومسي...</td>\n",
       "      <td>ضِفَّة غَربِيّ اِحتِلَال هَدَم مَنزِل تَارِيخِ...</td>\n",
       "      <td>ضفة غربي احتلال هدم منزل تاريخي و مسيرة ندد ب ...</td>\n",
       "    </tr>\n",
       "    <tr>\n",
       "      <th>1</th>\n",
       "      <td>مظاهرات بمدن اوروبية تضامنا مع غزة وحشود امام ...</td>\n",
       "      <td>1</td>\n",
       "      <td>مظاهرات بمدن اوروبية تضامنا غزة وحشود داونينغ ...</td>\n",
       "      <td>مظاهرات بمدن  تضامنا  وحشود  خرجت مظاهرات المد...</td>\n",
       "      <td>مُظَاهَرَة بِ مَدِينَة أَضَام هُوَ وَ حَشد خَر...</td>\n",
       "      <td>مظاهرة ب مدينة أضام هو و حشد خرج مظاهرة مدينة ...</td>\n",
       "    </tr>\n",
       "  </tbody>\n",
       "</table>\n",
       "</div>"
      ],
      "text/plain": [
       "                                           full_news  Label  \\\n",
       "0  الضفة الغربية الاحتلال يهدم  منزلا تاريخيا ومس...      1   \n",
       "1  مظاهرات بمدن اوروبية تضامنا مع غزة وحشود امام ...      1   \n",
       "\n",
       "                              full_news_no_stopwords  \\\n",
       "0  الضفة الغربية الاحتلال يهدم منزلا تاريخيا ومسي...   \n",
       "1  مظاهرات بمدن اوروبية تضامنا غزة وحشود داونينغ ...   \n",
       "\n",
       "                                    full_news_no_ner  \\\n",
       "0  الضفة الغربية الاحتلال يهدم منزلا تاريخيا ومسي...   \n",
       "1  مظاهرات بمدن  تضامنا  وحشود  خرجت مظاهرات المد...   \n",
       "\n",
       "                                     full_news_lemma  \\\n",
       "0  ضِفَّة غَربِيّ اِحتِلَال هَدَم مَنزِل تَارِيخِ...   \n",
       "1  مُظَاهَرَة بِ مَدِينَة أَضَام هُوَ وَ حَشد خَر...   \n",
       "\n",
       "                               full_news_lemma_clean  \n",
       "0  ضفة غربي احتلال هدم منزل تاريخي و مسيرة ندد ب ...  \n",
       "1  مظاهرة ب مدينة أضام هو و حشد خرج مظاهرة مدينة ...  "
      ]
     },
     "execution_count": 294,
     "metadata": {},
     "output_type": "execute_result"
    }
   ],
   "source": [
    "import pandas as pd\n",
    "processedDataLemma = pd.read_csv('processedDataLemma.csv')\n",
    "processedDataLemma.head(2)\n"
   ]
  },
  {
   "cell_type": "code",
   "execution_count": 295,
   "id": "d53c0720",
   "metadata": {},
   "outputs": [
    {
     "data": {
      "text/plain": [
       "Label\n",
       "1    3913\n",
       "0    1438\n",
       "Name: count, dtype: int64"
      ]
     },
     "execution_count": 295,
     "metadata": {},
     "output_type": "execute_result"
    }
   ],
   "source": [
    "processedDataLemma['Label'].value_counts()\n"
   ]
  },
  {
   "cell_type": "code",
   "execution_count": 296,
   "id": "49196251",
   "metadata": {},
   "outputs": [],
   "source": [
    "processedDataLemma = processedDataLemma.drop(columns=['full_news','full_news_no_stopwords','full_news_no_ner','full_news_lemma'], axis=1)"
   ]
  },
  {
   "cell_type": "code",
   "execution_count": 297,
   "id": "b11841e6",
   "metadata": {},
   "outputs": [
    {
     "data": {
      "text/html": [
       "<div>\n",
       "<style scoped>\n",
       "    .dataframe tbody tr th:only-of-type {\n",
       "        vertical-align: middle;\n",
       "    }\n",
       "\n",
       "    .dataframe tbody tr th {\n",
       "        vertical-align: top;\n",
       "    }\n",
       "\n",
       "    .dataframe thead th {\n",
       "        text-align: right;\n",
       "    }\n",
       "</style>\n",
       "<table border=\"1\" class=\"dataframe\">\n",
       "  <thead>\n",
       "    <tr style=\"text-align: right;\">\n",
       "      <th></th>\n",
       "      <th>Label</th>\n",
       "      <th>full_news_lemma_clean</th>\n",
       "    </tr>\n",
       "  </thead>\n",
       "  <tbody>\n",
       "    <tr>\n",
       "      <th>0</th>\n",
       "      <td>1</td>\n",
       "      <td>ضفة غربي احتلال هدم منزل تاريخي و مسيرة ندد ب ...</td>\n",
       "    </tr>\n",
       "    <tr>\n",
       "      <th>1</th>\n",
       "      <td>1</td>\n",
       "      <td>مظاهرة ب مدينة أضام هو و حشد خرج مظاهرة مدينة ...</td>\n",
       "    </tr>\n",
       "    <tr>\n",
       "      <th>2</th>\n",
       "      <td>1</td>\n",
       "      <td>شهيد و ضرب تنديد ب مجزرة استشهد و اعتقل عشرة آ...</td>\n",
       "    </tr>\n",
       "    <tr>\n",
       "      <th>3</th>\n",
       "      <td>1</td>\n",
       "      <td>خسارة عدو أكبر ب كثير أعلن و س جعل ل عنة تاريخ...</td>\n",
       "    </tr>\n",
       "    <tr>\n",
       "      <th>4</th>\n",
       "      <td>1</td>\n",
       "      <td>شهيد ب ضفة و احتلال شن حملة اعتقال استشهد مواج...</td>\n",
       "    </tr>\n",
       "    <tr>\n",
       "      <th>...</th>\n",
       "      <td>...</td>\n",
       "      <td>...</td>\n",
       "    </tr>\n",
       "    <tr>\n",
       "      <th>5346</th>\n",
       "      <td>1</td>\n",
       "      <td>حرب مباشر مقاومة تكبد احتلال خسارة كبير و خلاف...</td>\n",
       "    </tr>\n",
       "    <tr>\n",
       "      <th>5347</th>\n",
       "      <td>0</td>\n",
       "      <td>تصريح قديم ل مقتل اشتباك حرب جاري تداول حساب و...</td>\n",
       "    </tr>\n",
       "    <tr>\n",
       "      <th>5348</th>\n",
       "      <td>0</td>\n",
       "      <td>الفيديو هدد قديم حرب تداول صفحة و حساب موقعي ت...</td>\n",
       "    </tr>\n",
       "    <tr>\n",
       "      <th>5349</th>\n",
       "      <td>1</td>\n",
       "      <td>دعم قطعة دعم منظمة دولي نشر تقرير دقيق تقاطع ر...</td>\n",
       "    </tr>\n",
       "    <tr>\n",
       "      <th>5350</th>\n",
       "      <td>1</td>\n",
       "      <td>لصر خريطة و مصدر مفتوح مساعدة معرفة حي و مبنى ...</td>\n",
       "    </tr>\n",
       "  </tbody>\n",
       "</table>\n",
       "<p>5351 rows × 2 columns</p>\n",
       "</div>"
      ],
      "text/plain": [
       "      Label                              full_news_lemma_clean\n",
       "0         1  ضفة غربي احتلال هدم منزل تاريخي و مسيرة ندد ب ...\n",
       "1         1  مظاهرة ب مدينة أضام هو و حشد خرج مظاهرة مدينة ...\n",
       "2         1  شهيد و ضرب تنديد ب مجزرة استشهد و اعتقل عشرة آ...\n",
       "3         1  خسارة عدو أكبر ب كثير أعلن و س جعل ل عنة تاريخ...\n",
       "4         1  شهيد ب ضفة و احتلال شن حملة اعتقال استشهد مواج...\n",
       "...     ...                                                ...\n",
       "5346      1  حرب مباشر مقاومة تكبد احتلال خسارة كبير و خلاف...\n",
       "5347      0  تصريح قديم ل مقتل اشتباك حرب جاري تداول حساب و...\n",
       "5348      0  الفيديو هدد قديم حرب تداول صفحة و حساب موقعي ت...\n",
       "5349      1  دعم قطعة دعم منظمة دولي نشر تقرير دقيق تقاطع ر...\n",
       "5350      1  لصر خريطة و مصدر مفتوح مساعدة معرفة حي و مبنى ...\n",
       "\n",
       "[5351 rows x 2 columns]"
      ]
     },
     "execution_count": 297,
     "metadata": {},
     "output_type": "execute_result"
    }
   ],
   "source": [
    "processedDataLemma"
   ]
  },
  {
   "cell_type": "code",
   "execution_count": 298,
   "id": "cfff5e24",
   "metadata": {},
   "outputs": [],
   "source": [
    "# separating the data & label\n",
    "X = processedDataLemma['full_news_lemma_clean']\n",
    "Y = processedDataLemma['Label']"
   ]
  },
  {
   "cell_type": "code",
   "execution_count": 299,
   "id": "47d8b9e2",
   "metadata": {},
   "outputs": [
    {
     "data": {
      "text/plain": [
       "0       ضفة غربي احتلال هدم منزل تاريخي و مسيرة ندد ب ...\n",
       "1       مظاهرة ب مدينة أضام هو و حشد خرج مظاهرة مدينة ...\n",
       "2       شهيد و ضرب تنديد ب مجزرة استشهد و اعتقل عشرة آ...\n",
       "3       خسارة عدو أكبر ب كثير أعلن و س جعل ل عنة تاريخ...\n",
       "4       شهيد ب ضفة و احتلال شن حملة اعتقال استشهد مواج...\n",
       "                              ...                        \n",
       "5346    حرب مباشر مقاومة تكبد احتلال خسارة كبير و خلاف...\n",
       "5347    تصريح قديم ل مقتل اشتباك حرب جاري تداول حساب و...\n",
       "5348    الفيديو هدد قديم حرب تداول صفحة و حساب موقعي ت...\n",
       "5349    دعم قطعة دعم منظمة دولي نشر تقرير دقيق تقاطع ر...\n",
       "5350    لصر خريطة و مصدر مفتوح مساعدة معرفة حي و مبنى ...\n",
       "Name: full_news_lemma_clean, Length: 5351, dtype: object"
      ]
     },
     "execution_count": 299,
     "metadata": {},
     "output_type": "execute_result"
    }
   ],
   "source": [
    "X"
   ]
  },
  {
   "cell_type": "code",
   "execution_count": 300,
   "id": "cd39d54f",
   "metadata": {},
   "outputs": [
    {
     "name": "stdout",
     "output_type": "stream",
     "text": [
      "<class 'pandas.core.series.Series'>\n"
     ]
    }
   ],
   "source": [
    "print(type(X)) "
   ]
  },
  {
   "cell_type": "code",
   "execution_count": 301,
   "id": "3ae0d929",
   "metadata": {},
   "outputs": [
    {
     "data": {
      "text/plain": [
       "0       1\n",
       "1       1\n",
       "2       1\n",
       "3       1\n",
       "4       1\n",
       "       ..\n",
       "5346    1\n",
       "5347    0\n",
       "5348    0\n",
       "5349    1\n",
       "5350    1\n",
       "Name: Label, Length: 5351, dtype: int64"
      ]
     },
     "execution_count": 301,
     "metadata": {},
     "output_type": "execute_result"
    }
   ],
   "source": [
    "Y"
   ]
  },
  {
   "cell_type": "code",
   "execution_count": 302,
   "id": "8e12cac3",
   "metadata": {},
   "outputs": [],
   "source": [
    "# converting the textual data to numerical data\n",
    "from sklearn.feature_extraction.text import TfidfVectorizer\n",
    "vectorizer = TfidfVectorizer(ngram_range=(1,2), max_features=50000)\n",
    "vectorizer.fit(X)\n",
    "\n",
    "X = vectorizer.transform(X)"
   ]
  },
  {
   "cell_type": "code",
   "execution_count": 303,
   "id": "8aad2368",
   "metadata": {},
   "outputs": [
    {
     "name": "stdout",
     "output_type": "stream",
     "text": [
      "(5351, 50000)\n"
     ]
    },
    {
     "name": "stdout",
     "output_type": "stream",
     "text": [
      "[[0. 0. 0. ... 0. 0. 0.]\n",
      " [0. 0. 0. ... 0. 0. 0.]\n",
      " [0. 0. 0. ... 0. 0. 0.]\n",
      " ...\n",
      " [0. 0. 0. ... 0. 0. 0.]\n",
      " [0. 0. 0. ... 0. 0. 0.]\n",
      " [0. 0. 0. ... 0. 0. 0.]]\n"
     ]
    }
   ],
   "source": [
    "print(X.shape)         \n",
    "print(X.toarray())"
   ]
  },
  {
   "cell_type": "code",
   "execution_count": 304,
   "id": "27f147fb",
   "metadata": {},
   "outputs": [
    {
     "name": "stdout",
     "output_type": "stream",
     "text": [
      "<Compressed Sparse Row sparse matrix of dtype 'float64'\n",
      "\twith 796271 stored elements and shape (5351, 50000)>\n",
      "  Coords\tValues\n",
      "  (0, 14)\t0.03352375194165556\n",
      "  (0, 128)\t0.04954809781946378\n",
      "  (0, 344)\t0.026121167042346412\n",
      "  (0, 843)\t0.021130229257704216\n",
      "  (0, 917)\t0.04820228706289729\n",
      "  (0, 951)\t0.025577387683889966\n",
      "  (0, 1219)\t0.02398543688094428\n",
      "  (0, 1223)\t0.03223242885636319\n",
      "  (0, 1247)\t0.0452827987864584\n",
      "  (0, 1248)\t0.047618739740122436\n",
      "  (0, 1407)\t0.03823591494632399\n",
      "  (0, 1637)\t0.028328077700785204\n",
      "  (0, 1653)\t0.03618573845168364\n",
      "  (0, 1765)\t0.041527318289219496\n",
      "  (0, 1776)\t0.04954809781946378\n",
      "  (0, 1787)\t0.03954421970647366\n",
      "  (0, 2083)\t0.020503759782185264\n",
      "  (0, 2084)\t0.04954809781946378\n",
      "  (0, 2227)\t0.02517203390578155\n",
      "  (0, 2754)\t0.019394723878978674\n",
      "  (0, 2898)\t0.03895669589677197\n",
      "  (0, 2902)\t0.03928032989762005\n",
      "  (0, 2962)\t0.05226737530364077\n",
      "  (0, 3236)\t0.03693766022810704\n",
      "  (0, 3244)\t0.05723522922345284\n",
      "  :\t:\n",
      "  (5350, 46735)\t0.016443541129988377\n",
      "  (5350, 46916)\t0.04383490099713171\n",
      "  (5350, 47123)\t0.016715627466446246\n",
      "  (5350, 47162)\t0.02042148096665634\n",
      "  (5350, 47241)\t0.01821159699835576\n",
      "  (5350, 47442)\t0.013876026336777463\n",
      "  (5350, 47590)\t0.01804953476016281\n",
      "  (5350, 47822)\t0.03239321602011552\n",
      "  (5350, 47938)\t0.009688295444915488\n",
      "  (5350, 48409)\t0.02083355783317128\n",
      "  (5350, 48680)\t0.007691198394762283\n",
      "  (5350, 48721)\t0.021320941319938704\n",
      "  (5350, 48762)\t0.040129047496921616\n",
      "  (5350, 48792)\t0.008834498132384098\n",
      "  (5350, 48876)\t0.009262474546924282\n",
      "  (5350, 48934)\t0.01642416727911818\n",
      "  (5350, 48979)\t0.021917450498565853\n",
      "  (5350, 48999)\t0.013506721714488756\n",
      "  (5350, 49081)\t0.052729195489277896\n",
      "  (5350, 49086)\t0.02268648458327633\n",
      "  (5350, 49095)\t0.03842646122488739\n",
      "  (5350, 49338)\t0.020130020779328277\n",
      "  (5350, 49730)\t0.01736030386233865\n",
      "  (5350, 49740)\t0.01736030386233865\n",
      "  (5350, 49784)\t0.014383285069253668\n"
     ]
    }
   ],
   "source": [
    "print(X)"
   ]
  },
  {
   "cell_type": "code",
   "execution_count": 305,
   "id": "663e51e9",
   "metadata": {},
   "outputs": [],
   "source": [
    "#Splitting the dataset to training & test data\n",
    "from sklearn.model_selection import train_test_split\n",
    "X_train, X_test, Y_train, Y_test = train_test_split(X, Y, test_size=0.2, stratify=Y, random_state=42)"
   ]
  },
  {
   "cell_type": "code",
   "execution_count": 306,
   "id": "55371a55",
   "metadata": {},
   "outputs": [
    {
     "name": "stdout",
     "output_type": "stream",
     "text": [
      "Label\n",
      "1    3130\n",
      "0    1150\n",
      "Name: count, dtype: int64\n"
     ]
    }
   ],
   "source": [
    "print(Y_train.value_counts())\n"
   ]
  },
  {
   "cell_type": "code",
   "execution_count": 307,
   "id": "bad75db6",
   "metadata": {},
   "outputs": [
    {
     "name": "stdout",
     "output_type": "stream",
     "text": [
      "Label\n",
      "1    783\n",
      "0    288\n",
      "Name: count, dtype: int64\n"
     ]
    }
   ],
   "source": [
    "print(Y_test.value_counts())\n"
   ]
  },
  {
   "cell_type": "code",
   "execution_count": 308,
   "id": "6c0024ab",
   "metadata": {},
   "outputs": [
    {
     "name": "stdout",
     "output_type": "stream",
     "text": [
      "Note: you may need to restart the kernel to use updated packages.Requirement already satisfied: seaborn in c:\\users\\best tech\\appdata\\local\\programs\\python\\python311\\lib\\site-packages (0.13.2)\n",
      "Requirement already satisfied: numpy!=1.24.0,>=1.20 in c:\\users\\best tech\\appdata\\local\\programs\\python\\python311\\lib\\site-packages (from seaborn) (2.3.1)\n",
      "Requirement already satisfied: pandas>=1.2 in c:\\users\\best tech\\appdata\\local\\programs\\python\\python311\\lib\\site-packages (from seaborn) (2.2.3)\n",
      "Requirement already satisfied: matplotlib!=3.6.1,>=3.4 in c:\\users\\best tech\\appdata\\local\\programs\\python\\python311\\lib\\site-packages (from seaborn) (3.10.3)\n",
      "Requirement already satisfied: contourpy>=1.0.1 in c:\\users\\best tech\\appdata\\local\\programs\\python\\python311\\lib\\site-packages (from matplotlib!=3.6.1,>=3.4->seaborn) (1.3.2)\n",
      "Requirement already satisfied: cycler>=0.10 in c:\\users\\best tech\\appdata\\local\\programs\\python\\python311\\lib\\site-packages (from matplotlib!=3.6.1,>=3.4->seaborn) (0.12.1)\n",
      "Requirement already satisfied: fonttools>=4.22.0 in c:\\users\\best tech\\appdata\\local\\programs\\python\\python311\\lib\\site-packages (from matplotlib!=3.6.1,>=3.4->seaborn) (4.58.4)\n",
      "Requirement already satisfied: kiwisolver>=1.3.1 in c:\\users\\best tech\\appdata\\local\\programs\\python\\python311\\lib\\site-packages (from matplotlib!=3.6.1,>=3.4->seaborn) (1.4.8)\n",
      "Requirement already satisfied: packaging>=20.0 in c:\\users\\best tech\\appdata\\roaming\\python\\python311\\site-packages (from matplotlib!=3.6.1,>=3.4->seaborn) (24.2)\n",
      "Requirement already satisfied: pillow>=8 in c:\\users\\best tech\\appdata\\local\\programs\\python\\python311\\lib\\site-packages (from matplotlib!=3.6.1,>=3.4->seaborn) (11.2.1)\n",
      "Requirement already satisfied: pyparsing>=2.3.1 in c:\\users\\best tech\\appdata\\local\\programs\\python\\python311\\lib\\site-packages (from matplotlib!=3.6.1,>=3.4->seaborn) (3.2.3)\n",
      "Requirement already satisfied: python-dateutil>=2.7 in c:\\users\\best tech\\appdata\\roaming\\python\\python311\\site-packages (from matplotlib!=3.6.1,>=3.4->seaborn) (2.9.0.post0)\n",
      "Requirement already satisfied: pytz>=2020.1 in c:\\users\\best tech\\appdata\\local\\programs\\python\\python311\\lib\\site-packages (from pandas>=1.2->seaborn) (2024.2)\n",
      "Requirement already satisfied: tzdata>=2022.7 in c:\\users\\best tech\\appdata\\local\\programs\\python\\python311\\lib\\site-packages (from pandas>=1.2->seaborn) (2024.2)\n",
      "Requirement already satisfied: six>=1.5 in c:\\users\\best tech\\appdata\\roaming\\python\\python311\\site-packages (from python-dateutil>=2.7->matplotlib!=3.6.1,>=3.4->seaborn) (1.17.0)\n",
      "\n"
     ]
    },
    {
     "name": "stderr",
     "output_type": "stream",
     "text": [
      "\n",
      "[notice] A new release of pip is available: 25.0.1 -> 25.1.1\n",
      "[notice] To update, run: python.exe -m pip install --upgrade pip\n"
     ]
    }
   ],
   "source": [
    "pip install seaborn"
   ]
  },
  {
   "cell_type": "code",
   "execution_count": 309,
   "id": "eeeb8643",
   "metadata": {},
   "outputs": [
    {
     "name": "stdout",
     "output_type": "stream",
     "text": [
      "Accuracy score of the training data :  0.9109813084112149\n",
      "Accuracy score of the test data :  0.8711484593837535\n"
     ]
    },
    {
     "data": {
      "image/png": "[encoded data removed]",
      "text/plain": [
       "<Figure size 640x480 with 2 Axes>"
      ]
     },
     "metadata": {},
     "output_type": "display_data"
    },
    {
     "name": "stdout",
     "output_type": "stream",
     "text": [
      "              precision    recall  f1-score   support\n",
      "\n",
      "        Fake       0.84      0.65      0.73       288\n",
      "        Real       0.88      0.95      0.92       783\n",
      "\n",
      "    accuracy                           0.87      1071\n",
      "   macro avg       0.86      0.80      0.82      1071\n",
      "weighted avg       0.87      0.87      0.87      1071\n",
      "\n"
     ]
    }
   ],
   "source": [
    "from sklearn.metrics import confusion_matrix, classification_report\n",
    "import seaborn as sns\n",
    "import matplotlib.pyplot as plt\n",
    "import pickle\n",
    "from sklearn.linear_model import LogisticRegression\n",
    "from sklearn.metrics import accuracy_score\n",
    "\n",
    "model = LogisticRegression()\n",
    "model.fit(X_train, Y_train)\n",
    "# accuracy score on the training data\n",
    "X_train_prediction = model.predict(X_train)\n",
    "training_data_accuracy = accuracy_score(X_train_prediction, Y_train)\n",
    "print('Accuracy score of the training data : ', training_data_accuracy)\n",
    "# accuracy score on the test data\n",
    "X_test_prediction = model.predict(X_test)\n",
    "test_data_accuracy = accuracy_score(X_test_prediction, Y_test)\n",
    "print('Accuracy score of the test data : ', test_data_accuracy)\n",
    "# Confusion matrix\n",
    "cm = confusion_matrix(Y_test, X_test_prediction)\n",
    "sns.heatmap(cm, annot=True, fmt='d', cmap='Blues',\n",
    "            xticklabels=['Fake', 'Real'],   # 0 = Fake, 1 = Real\n",
    "            yticklabels=['Fake', 'Real'])   # نفس الترتيب\n",
    "plt.xlabel('Predicted')\n",
    "plt.ylabel('Actual')\n",
    "plt.title('LogisticRegression Confusion Matrix')\n",
    "plt.show()\n",
    "\n",
    "# Classification report\n",
    "print(classification_report(Y_test, X_test_prediction, target_names=[\"Fake\", \"Real\"]))\n",
    "\n",
    "# احفظي النموذج\n",
    "pickle.dump(model, open(\"LogisticRegression_model.pkl\", \"wb\"))\n"
   ]
  },
  {
   "cell_type": "code",
   "execution_count": null,
   "id": "9f27ee69",
   "metadata": {},
   "outputs": [
    {
     "name": "stdout",
     "output_type": "stream",
     "text": [
      "Accuracy score of the training data :  0.9654205607476636\n",
      "Accuracy score of the test data :  0.8832866479925303\n"
     ]
    },
    {
     "data": {
      "image/png": "[encoded data removed]",
      "text/plain": [
       "<Figure size 640x480 with 2 Axes>"
      ]
     },
     "metadata": {},
     "output_type": "display_data"
    },
    {
     "name": "stdout",
     "output_type": "stream",
     "text": [
      "              precision    recall  f1-score   support\n",
      "\n",
      "        Fake       0.76      0.83      0.79       288\n",
      "        Real       0.94      0.90      0.92       783\n",
      "\n",
      "    accuracy                           0.88      1071\n",
      "   macro avg       0.85      0.87      0.86      1071\n",
      "weighted avg       0.89      0.88      0.88      1071\n",
      "\n"
     ]
    }
   ],
   "source": [
    "from sklearn.svm import SVC\n",
    "from sklearn.metrics import classification_report, confusion_matrix, accuracy_score\n",
    "import seaborn as sns\n",
    "import matplotlib.pyplot as plt\n",
    "import pickle\n",
    "\n",
    "# تدريب نموذج SVC بدعم الاحتمالات وحل مشكلة توازن البيانات\n",
    "model = SVC(kernel='linear', probability=True, class_weight='balanced')\n",
    "model.fit(X_train, Y_train)\n",
    "\n",
    "# التنبؤ على مجموعة الاختبار\n",
    "Y_pred = model.predict(X_test)\n",
    "\n",
    "# accuracy score on the training data\n",
    "X_train_prediction = model.predict(X_train)\n",
    "training_data_accuracy = accuracy_score(Y_train, X_train_prediction)\n",
    "print('Accuracy score of the training data : ', training_data_accuracy)\n",
    "\n",
    "# accuracy score on the test data\n",
    "X_test_prediction = model.predict(X_test)\n",
    "test_data_accuracy = accuracy_score(Y_test, X_test_prediction)\n",
    "print('Accuracy score of the test data : ', test_data_accuracy)\n",
    "\n",
    "# (Confusion Matrix)\n",
    "cm = confusion_matrix(Y_test, Y_pred)\n",
    "sns.heatmap(cm, annot=True, fmt='d', cmap='Blues',\n",
    "            xticklabels=['Fake', 'Real'],\n",
    "            yticklabels=['Fake', 'Real'])\n",
    "plt.xlabel('Predicted')\n",
    "plt.ylabel('Actual')\n",
    "plt.title('SVC Confusion Matrix')\n",
    "plt.show()\n",
    "\n",
    "\n",
    "print(classification_report(Y_test, Y_pred, target_names=[\"Fake\", \"Real\"]))\n",
    "\n",
    "\n",
    "pickle.dump(model, open(\"svm_model.pkl\", \"wb\"))\n",
    "pickle.dump(vectorizer, open(\"vectorizer.pkl\", \"wb\"))\n"
   ]
  },
  {
   "cell_type": "code",
   "execution_count": 311,
   "id": "c3ee01b4",
   "metadata": {},
   "outputs": [],
   "source": [
    "from nltk.corpus import stopwords\n",
    "stop_words = set(stopwords.words('arabic'))"
   ]
  },
  {
   "cell_type": "code",
   "execution_count": 312,
   "id": "a77687cc",
   "metadata": {},
   "outputs": [],
   "source": [
    "import re\n",
    "import requests\n",
    "\n",
    "# تحميل قائمة الكلمات التوقفية\n",
    "url = \"https://raw.githubusercontent.com/mohataher/arabic-stop-words/master/list.txt\"\n",
    "response = requests.get(url)\n",
    "arabic_stopwords = set(response.text.splitlines())\n",
    "\n",
    "def clean_arabic_text(text):\n",
    "    if not isinstance(text, str):\n",
    "        return \"\"\n",
    "\n",
    "    # إزالة الروابط و HTML\n",
    "    text = re.sub(r'http\\S+|www.\\S+|pic\\.twitter\\.com/\\S+', '', text)\n",
    "    text = re.sub(r'<.*?>', '', text)\n",
    "\n",
    "    # إزالة الإيموجي\n",
    "    emoji_pattern = re.compile(\"[\"       \n",
    "        u\"\\U0001F600-\\U0001F64F\" \n",
    "        u\"\\U0001F300-\\U0001F5FF\" \n",
    "        u\"\\U0001F680-\\U0001F6FF\" \n",
    "        u\"\\U0001F1E0-\\U0001F1FF\" \n",
    "        \"]+\", flags=re.UNICODE)\n",
    "    text = emoji_pattern.sub(r'', text)\n",
    "\n",
    "    # إزالة التشكيل\n",
    "    text = re.sub(r'[\\u064B-\\u0652]', '', text)\n",
    "\n",
    "    # توحيد الحروف\n",
    "    text = re.sub(r'[إأآا]', 'ا', text)\n",
    "\n",
    "    # إزالة علامات الترقيم\n",
    "    text = re.sub(r'[ـ،؛؟!:\\.\\,\\(\\)\\[\\]\\{\\}\"\\'«»\\-_~…]', '', text)\n",
    "\n",
    "    # الاحتفاظ فقط بالحروف العربية\n",
    "    lines = text.split('\\n')\n",
    "    cleaned_lines = []\n",
    "    for line in lines:\n",
    "        if re.fullmatch(r'[^\\u0600-\\u06FF]+', line.strip()):\n",
    "            continue\n",
    "        line = re.sub(r'[^\\u0600-\\u06FF\\s]', '', line)\n",
    "        if line.strip():\n",
    "            cleaned_lines.append(line.strip())\n",
    "    \n",
    "    clean_text = '\\n'.join(cleaned_lines)\n",
    "\n",
    "    # إزالة الكلمات التوقفية\n",
    "    clean_words = [word for word in clean_text.split() if word not in arabic_stopwords]\n",
    "    final_text = ' '.join(clean_words)\n",
    "    return final_text"
   ]
  },
  {
   "cell_type": "code",
   "execution_count": 316,
   "id": "c735a475",
   "metadata": {},
   "outputs": [
    {
     "name": "stdout",
     "output_type": "stream",
     "text": [
      "النص: بادني مستوى إطلاق تقرير فلسطيني أظهر تراجع مؤشرات اقتصادية واجتماعية في الضفة الغربية وقطاع غزة. نقلت مصادر محلية عن دراسة حديثة أن معدلات البطالة والفقر وصلت إلى مستويات غير مسبوقة منذ سنوات، مدفوعة بتأثيرات الحصار وقيود التنقل.\n",
      "\n",
      "وكشف التقرير أن الأوضاع الأمنية المتقلبة وتدهور البنية التحتية زادت من معاناة السكان، ما أثار قلق واسع بين المسؤولين الفلسطينيين والمجتمع المدني. وعبّر مسؤول رفيع عن استيائه من تدهور الخدمات الأساسية، قائلاً إن الوضع الراهن “غير مقبول ويتطلب تدخل عاجل”.\n",
      "\n",
      "وأشار التقرير إلى أن الشباب الفلسطيني يشكلون أكبر فئة متضررة، حيث أن فرص التعليم والعمل تراجعت بشكل ملحوظ. وذكر تقرير محلي أن ارتفاع أسعار السلع والخدمات يضغط على الأسر الفقيرة، مما زاد من حجم الاحتجاجات الشعبية في المدن الفلسطينية.\n",
      "\n",
      "ورغم المحاولات الدولية لتقديم الدعم، ما زالت التحديات كثيرة، وأكدت منظمات حقوق الإنسان ضرورة تعزيز الجهود لرفع الحصار وتحقيق استقرار دائم. واستقر معدل قبول السكان للأوضاع الحالية عند مستويات منخفضة، ما يعكس حالة الإحباط العام بين المواطنين.\n",
      "Prediction: Real News with 91.28% confidence\n",
      "----------------------------------------\n",
      "النص: الادعاء بخصوص تدمير مساعدات من شركات تدعم إسرائيل بدون إثبات أو مصدر موثوق.\n",
      "Prediction: Fake News with 44.29% confidence\n",
      "----------------------------------------\n",
      "النص: الفيديو اشتباك مقاومة تداول حساب و صفحة موقع تواصل اجتماعي ، قليل ، مقطع فيديو أدعى اشتباك عنيف مقاومة مستوطنة غلاف عملية طوفان أقصىمما زاد من حجم الاحتجاجات الشعبية\n",
      "\n",
      "\n",
      "Prediction: Fake News with 97.76% confidence\n",
      "----------------------------------------\n"
     ]
    }
   ],
   "source": [
    "import pickle\n",
    "\n",
    "model = pickle.load(open(\"svm_model.pkl\", \"rb\"))\n",
    "vectorizer = pickle.load(open(\"vectorizer.pkl\", \"rb\"))\n",
    "\n",
    "\n",
    "def predict_news(text):\n",
    "    \n",
    "    cleaned_text = clean_arabic_text(text)\n",
    "    vector = vectorizer.transform([text])\n",
    "    prediction = model.predict(vector)[0]\n",
    "#    \n",
    "    probabilities = model.predict_proba(vector)[0]\n",
    "\n",
    "    confidence = round(probabilities[prediction] * 100, 2)  # النسبة المئوية\n",
    "    label = \"Real News\" if prediction == 1 else \"Fake News\"\n",
    "\n",
    "    return label, confidence\n",
    "\n",
    "\n",
    "texts = [\"\"\"بادني مستوى إطلاق تقرير فلسطيني أظهر تراجع مؤشرات اقتصادية واجتماعية في الضفة الغربية وقطاع غزة. نقلت مصادر محلية عن دراسة حديثة أن معدلات البطالة والفقر وصلت إلى مستويات غير مسبوقة منذ سنوات، مدفوعة بتأثيرات الحصار وقيود التنقل.\n",
    "\n",
    "وكشف التقرير أن الأوضاع الأمنية المتقلبة وتدهور البنية التحتية زادت من معاناة السكان، ما أثار قلق واسع بين المسؤولين الفلسطينيين والمجتمع المدني. وعبّر مسؤول رفيع عن استيائه من تدهور الخدمات الأساسية، قائلاً إن الوضع الراهن “غير مقبول ويتطلب تدخل عاجل”.\n",
    "\n",
    "وأشار التقرير إلى أن الشباب الفلسطيني يشكلون أكبر فئة متضررة، حيث أن فرص التعليم والعمل تراجعت بشكل ملحوظ. وذكر تقرير محلي أن ارتفاع أسعار السلع والخدمات يضغط على الأسر الفقيرة، مما زاد من حجم الاحتجاجات الشعبية في المدن الفلسطينية.\n",
    "\n",
    "ورغم المحاولات الدولية لتقديم الدعم، ما زالت التحديات كثيرة، وأكدت منظمات حقوق الإنسان ضرورة تعزيز الجهود لرفع الحصار وتحقيق استقرار دائم. واستقر معدل قبول السكان للأوضاع الحالية عند مستويات منخفضة، ما يعكس حالة الإحباط العام بين المواطنين.\"\"\",\"\"\"الادعاء بخصوص تدمير مساعدات من شركات تدعم إسرائيل بدون إثبات أو مصدر موثوق.\"\"\",\"\"\"الفيديو اشتباك مقاومة تداول حساب و صفحة موقع تواصل اجتماعي ، قليل ، مقطع فيديو أدعى اشتباك عنيف مقاومة مستوطنة غلاف عملية طوفان أقصىمما زاد من حجم الاحتجاجات الشعبية\n",
    "\n",
    "\"\"\"]\n",
    "for t in texts:\n",
    "    \n",
    "\n",
    "    print(\"النص:\", t)\n",
    "    label, confidence = predict_news(t)\n",
    "    print(f\"Prediction: {label} with {confidence}% confidence\")\n",
    "    print(\"-\" * 40)\n"
   ]
  }
 ],
 "metadata": {
  "kernelspec": {
   "display_name": "Python 3",
   "language": "python",
   "name": "python3"
  },
  "language_info": {
   "codemirror_mode": {
    "name": "ipython",
    "version": 3
   },
   "file_extension": ".py",
   "mimetype": "text/x-python",
   "name": "python",
   "nbconvert_exporter": "python",
   "pygments_lexer": "ipython3",
   "version": "3.11.2"
  }
 },
 "nbformat": 4,
 "nbformat_minor": 5
}
